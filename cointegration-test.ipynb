{
 "cells": [
  {
   "cell_type": "code",
   "execution_count": null,
   "metadata": {},
   "outputs": [],
   "source": [
    "# this file does not have any of my trade logic code in it\n",
    "# it is just the cointegration test, and I used the results of this\n",
    "# in my trade logic function"
   ]
  },
  {
   "cell_type": "code",
   "execution_count": 46,
   "metadata": {},
   "outputs": [],
   "source": [
    "import matplotlib.pyplot as plt\n",
    "import pandas as pd\n",
    "import statsmodels.tsa.stattools as ts \n"
   ]
  },
  {
   "cell_type": "code",
   "execution_count": 53,
   "metadata": {},
   "outputs": [],
   "source": [
    "dfs=[\"./data/6e.csv\",\"./data/ES.csv\", \"./data/CL.csv\",\"./data/GC.csv\", \"./data/NQ.csv\", \"./data/ZC.csv\"]\n",
    "\n",
    "\n"
   ]
  },
  {
   "cell_type": "code",
   "execution_count": 54,
   "metadata": {},
   "outputs": [
    {
     "data": {
      "text/plain": [
       "6"
      ]
     },
     "execution_count": 54,
     "metadata": {},
     "output_type": "execute_result"
    }
   ],
   "source": [
    "len(dfs)"
   ]
  },
  {
   "cell_type": "code",
   "execution_count": 57,
   "metadata": {
    "scrolled": true
   },
   "outputs": [
    {
     "name": "stdout",
     "output_type": "stream",
     "text": [
      "6e and ES\n",
      "(-2.484525521980991, 0.285936062879991, array([-3.90078954, -3.33855475, -3.04613278]))\n",
      "6e and CL\n",
      "(-3.5810306817814834, 0.025856929038995505, array([-3.90078954, -3.33855475, -3.04613278]))\n",
      "6e and GC\n",
      "(-0.6466039987787522, 0.9520994566819183, array([-3.90078954, -3.33855475, -3.04613278]))\n",
      "6e and NQ\n",
      "(-1.3457107941212556, 0.815515838522501, array([-3.90078954, -3.33855475, -3.04613278]))\n",
      "6e and ZC\n",
      "(-2.971853858209093, 0.11704833123827996, array([-3.90078954, -3.33855475, -3.04613278]))\n",
      "ES and CL\n",
      "(-2.7658535816861805, 0.17679142544681742, array([-3.90079127, -3.33855572, -3.04613344]))\n",
      "ES and GC\n",
      "(0.2992386995327672, 0.9908825136039386, array([-3.90079127, -3.33855572, -3.04613344]))\n",
      "ES and NQ\n",
      "(1.6420800350975358, 1.0, array([-3.90079127, -3.33855572, -3.04613344]))\n",
      "ES and ZC\n",
      "(-4.513622582712207, 0.0011630352113865719, array([-3.90079127, -3.33855572, -3.04613344]))\n",
      "CL and GC\n",
      "(-0.39366579507204963, 0.9710962106027895, array([-3.900793  , -3.33855668, -3.04613411]))\n",
      "CL and NQ\n",
      "(-1.8284492280632456, 0.6158031630009356, array([-3.90079127, -3.33855572, -3.04613344]))\n",
      "CL and ZC\n",
      "(-3.112594537597425, 0.08580112933717887, array([-3.900793  , -3.33855668, -3.04613411]))\n",
      "GC and NQ\n",
      "(-0.6208726026447005, 0.9545257573870184, array([-3.90079127, -3.33855572, -3.04613344]))\n",
      "GC and ZC\n",
      "(-0.7457198915415573, 0.94147308602979, array([-3.900793  , -3.33855668, -3.04613411]))\n",
      "NQ and ZC\n",
      "(-2.7259256198311324, 0.19039310979064633, array([-3.90079127, -3.33855572, -3.04613344]))\n"
     ]
    }
   ],
   "source": [
    "for i in range(0,6):\n",
    "    for j in range(i+1,6):\n",
    "        df_x = pd.read_csv(dfs[i])\n",
    "        df_y = pd.read_csv(dfs[j])\n",
    "        df=pd.DataFrame({'x':df_x['Close'], 'y':df_y['Close']})\n",
    "        df=df.fillna(method='ffill')\n",
    "        print(dfs[i][7:9] + \" and \" + dfs[j][7:9])\n",
    "        print(ts.coint(df['x'], df['y']))"
   ]
  },
  {
   "cell_type": "code",
   "execution_count": 1,
   "metadata": {},
   "outputs": [],
   "source": [
    "# based on the test, the two pairs I will trade are ES and NQ, and ES and GC"
   ]
  },
  {
   "cell_type": "code",
   "execution_count": null,
   "metadata": {},
   "outputs": [],
   "source": []
  }
 ],
 "metadata": {
  "kernelspec": {
   "display_name": "Python 3",
   "language": "python",
   "name": "python3"
  },
  "language_info": {
   "codemirror_mode": {
    "name": "ipython",
    "version": 3
   },
   "file_extension": ".py",
   "mimetype": "text/x-python",
   "name": "python",
   "nbconvert_exporter": "python",
   "pygments_lexer": "ipython3",
   "version": "3.8.2"
  }
 },
 "nbformat": 4,
 "nbformat_minor": 4
}
